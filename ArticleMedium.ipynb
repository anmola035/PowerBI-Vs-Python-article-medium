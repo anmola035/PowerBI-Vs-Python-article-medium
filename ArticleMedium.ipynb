{
 "cells": [
  {
   "cell_type": "code",
   "execution_count": 1,
   "id": "0b41c1ac-8b8a-457c-a752-1ea7464baf44",
   "metadata": {},
   "outputs": [],
   "source": [
    "#importamos librerías\n",
    "import pandas as pd\n",
    "import numpy as np\n",
    "import matplotlib.pyplot as plt\n",
    "from unicodedata import normalize"
   ]
  },
  {
   "cell_type": "code",
   "execution_count": 2,
   "id": "97b867d2-464b-4871-b1c7-cba9a1d8c89d",
   "metadata": {},
   "outputs": [],
   "source": [
    "#leemos la web y escogemos la tabla que queremos, en este caso, \"Años campeonatos\"\n",
    "table_ligadecampeones = pd.read_html(\"https://es.wikipedia.org/wiki/Liga_de_Campeones_de_la_UEFA\", match = \"Años campeonatos\")"
   ]
  },
  {
   "cell_type": "code",
   "execution_count": 3,
   "id": "e0520a99-de1d-4252-9731-4120d2466eca",
   "metadata": {},
   "outputs": [
    {
     "name": "stdout",
     "output_type": "stream",
     "text": [
      "Total tables: 1\n"
     ]
    }
   ],
   "source": [
    "#Vemos que sólo tengamos la tabla que queremos\n",
    "print(f'Total tables: {len(table_ligadecampeones)}')"
   ]
  },
  {
   "cell_type": "code",
   "execution_count": null,
   "id": "c6f5d2fb-5b5a-4540-a3d7-fa14af570088",
   "metadata": {},
   "outputs": [],
   "source": [
    "#definimos el dataframe\n",
    "df = table_ligadecampeones[0]\n",
    "df"
   ]
  },
  {
   "cell_type": "code",
   "execution_count": 8,
   "id": "14309fdd-0920-47fc-9606-f8301672cac3",
   "metadata": {},
   "outputs": [
    {
     "data": {
      "application/vnd.jupyter.widget-view+json": {
       "model_id": "03e59126c9804f83b28c83f53ebbbe97",
       "version_major": 2,
       "version_minor": 0
      },
      "text/plain": [
       "MitoWidget(analysis_data_json='{\"analysisName\": \"UUID-0aaf21fd-1186-495b-a677-b76f2b8a9a46\", \"code\": {\"imports…"
      ]
     },
     "metadata": {},
     "output_type": "display_data"
    }
   ],
   "source": [
    "#usamos nuestra herramienta favorita MITO para trabajar los datos\n",
    "import mitosheet\n",
    "mitosheet.sheet(df, view_df=True)"
   ]
  },
  {
   "cell_type": "code",
   "execution_count": null,
   "id": "43b6a952-ea81-4a65-aee4-4076b3243d3e",
   "metadata": {},
   "outputs": [],
   "source": []
  }
 ],
 "metadata": {
  "kernelspec": {
   "display_name": "Python 3 (ipykernel)",
   "language": "python",
   "name": "python3"
  },
  "language_info": {
   "codemirror_mode": {
    "name": "ipython",
    "version": 3
   },
   "file_extension": ".py",
   "mimetype": "text/x-python",
   "name": "python",
   "nbconvert_exporter": "python",
   "pygments_lexer": "ipython3",
   "version": "3.9.7"
  }
 },
 "nbformat": 4,
 "nbformat_minor": 5
}
